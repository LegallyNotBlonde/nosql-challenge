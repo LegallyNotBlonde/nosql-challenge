{
 "cells": [
  {
   "cell_type": "markdown",
   "id": "9a57c4c6",
   "metadata": {},
   "source": [
    "# Eat Safe, Love"
   ]
  },
  {
   "cell_type": "markdown",
   "id": "064ef857",
   "metadata": {},
   "source": [
    "## Part 1: Database and Jupyter Notebook Set Up"
   ]
  },
  {
   "cell_type": "markdown",
   "id": "664e3c1f",
   "metadata": {},
   "source": [
    "Import the data provided in the `establishments.json` file from your Terminal. Name the database `uk_food` and the collection `establishments`.\n",
    "\n",
    "Within this markdown cell, copy the line of text you used to import the data from your Terminal. This way, future analysts will be able to repeat your process.\n",
    "\n",
    "e.g.: Import the dataset with `YOUR IMPORT TEXT HERE`"
   ]
  },
  {
   "cell_type": "code",
   "execution_count": 125,
   "id": "3ecdd008",
   "metadata": {},
   "outputs": [],
   "source": [
    "# Import dependencies\n",
    "from pymongo import MongoClient\n",
    "from pprint import pprint"
   ]
  },
  {
   "cell_type": "code",
   "execution_count": null,
   "id": "5347c80e",
   "metadata": {},
   "outputs": [],
   "source": [
    "# NOTE: Import data into MongoDB (using Gitbash after getting to the \"Resources\" folder where the file is located)\n",
    "mongoimport --type json -d uk_food -c establishments --drop --jsonArray establishments.json"
   ]
  },
  {
   "cell_type": "code",
   "execution_count": 127,
   "id": "59390c4a",
   "metadata": {},
   "outputs": [],
   "source": [
    "# Create an instance of MongoClient\n",
    "mongo = MongoClient(port=27017)\n",
    "db = mongo.classDB"
   ]
  },
  {
   "cell_type": "code",
   "execution_count": 128,
   "id": "47132351",
   "metadata": {},
   "outputs": [
    {
     "data": {
      "text/plain": [
       "['admin',\n",
       " 'autosaurus',\n",
       " 'class_db',\n",
       " 'config',\n",
       " 'epa',\n",
       " 'fruits_db',\n",
       " 'gardenDB',\n",
       " 'local',\n",
       " 'met',\n",
       " 'petsitly_marketing',\n",
       " 'travel_db',\n",
       " 'uk_food']"
      ]
     },
     "execution_count": 128,
     "metadata": {},
     "output_type": "execute_result"
    }
   ],
   "source": [
    "# confirm that our new database was created\n",
    "mdb_database = mongo.list_database_names()\n",
    "mdb_database"
   ]
  },
  {
   "cell_type": "code",
   "execution_count": 129,
   "id": "10436421",
   "metadata": {},
   "outputs": [
    {
     "name": "stdout",
     "output_type": "stream",
     "text": [
      "Database 'uk_food' was created. Here is the list of all the databases:\n",
      "['admin',\n",
      " 'autosaurus',\n",
      " 'class_db',\n",
      " 'config',\n",
      " 'epa',\n",
      " 'fruits_db',\n",
      " 'gardenDB',\n",
      " 'local',\n",
      " 'met',\n",
      " 'petsitly_marketing',\n",
      " 'travel_db',\n",
      " 'uk_food']\n"
     ]
    }
   ],
   "source": [
    "# Other option to confirm that our new database was created\n",
    "# it uses 'if' function to make Pandas verify it for us instead of manually going through my list of data\n",
    "if 'uk_food' in mdb_database:\n",
    "    print(\"Database 'uk_food' was created. Here is the list of all the databases:\")\n",
    "    pprint(mdb_database)\n",
    "else:\n",
    "    print(\"Database 'uk_food' does not exist.\")"
   ]
  },
  {
   "cell_type": "code",
   "execution_count": 130,
   "id": "71e373c1",
   "metadata": {},
   "outputs": [],
   "source": [
    "# Assign the uk_food database to a variable name\n",
    "db = mongo['uk_food']"
   ]
  },
  {
   "cell_type": "code",
   "execution_count": 131,
   "id": "f60d61db",
   "metadata": {},
   "outputs": [
    {
     "name": "stdout",
     "output_type": "stream",
     "text": [
      "['establishments']\n"
     ]
    }
   ],
   "source": [
    "# Other option to review the collections in our new database using Pandas \n",
    "print(db.list_collection_names())"
   ]
  },
  {
   "cell_type": "code",
   "execution_count": 132,
   "id": "541e443a",
   "metadata": {},
   "outputs": [
    {
     "name": "stdout",
     "output_type": "stream",
     "text": [
      "First document in establishments database is: {'_id': ObjectId('66ab1fce3aed7deb0c98baeb'), 'FHRSID': 254719, 'ChangesByServerID': 0, 'LocalAuthorityBusinessID': 'PI/000069980', 'BusinessName': 'Refreshment Kiosk', 'BusinessType': 'Restaurant/Cafe/Canteen', 'BusinessTypeID': 1, 'AddressLine1': 'The Bay', 'AddressLine2': 'St Margarets Bay', 'AddressLine3': 'Kent', 'AddressLine4': '', 'PostCode': 'CT15 6DY', 'Phone': '', 'RatingValue': '5', 'RatingKey': 'fhrs_5_en-gb', 'RatingDate': '2022-03-24T00:00:00', 'LocalAuthorityCode': '182', 'LocalAuthorityName': 'Dover', 'LocalAuthorityWebSite': 'http://www.dover.gov.uk/', 'LocalAuthorityEmailAddress': 'publicprotection@dover.gov.uk', 'scores': {'Hygiene': 0, 'Structural': 5, 'ConfidenceInManagement': 5}, 'SchemeType': 'FHRS', 'geocode': {'longitude': '1.387974', 'latitude': '51.152225'}, 'RightToReply': '', 'Distance': 4587.347174863443, 'NewRatingPending': False, 'meta': {'dataSource': None, 'extractDate': '0001-01-01T00:00:00', 'itemCount': 0, 'returncode': None, 'totalCount': 0, 'totalPages': 0, 'pageSize': 0, 'pageNumber': 0}, 'links': [{'rel': 'self', 'href': 'https://api.ratings.food.gov.uk/establishments/254719'}]}\n"
     ]
    }
   ],
   "source": [
    "# View the first document in the 'establishments' collection\n",
    "print(\"First document in establishments database is:\", db.establishments.find_one())"
   ]
  },
  {
   "cell_type": "code",
   "execution_count": 133,
   "id": "11c9f11b",
   "metadata": {},
   "outputs": [],
   "source": [
    "# assign the collection to a variable\n",
    "establishments = db['establishments']"
   ]
  },
  {
   "cell_type": "code",
   "execution_count": null,
   "id": "d85310ea",
   "metadata": {},
   "outputs": [],
   "source": [
    "## The following code is to be run in the Mongo shell as an alternative to executing similar commands above."
   ]
  },
  {
   "cell_type": "code",
   "execution_count": null,
   "id": "ae67b23e",
   "metadata": {},
   "outputs": [],
   "source": [
    "# NOTE: this command is to switch to uk_food database in Mongo shell\n",
    "use uk_food # not intended for execution in a Jupyter notebook."
   ]
  },
  {
   "cell_type": "code",
   "execution_count": null,
   "id": "7d2b3a65",
   "metadata": {},
   "outputs": [],
   "source": [
    "# Review the collections in our new database\n",
    "show collections  # NOTE: run in Mongo shell"
   ]
  },
  {
   "cell_type": "code",
   "execution_count": null,
   "id": "17dbdd06",
   "metadata": {},
   "outputs": [],
   "source": [
    "# Review the collections in our new database\n",
    "db.establishments.find() # NOTE: execute in Mongo shell"
   ]
  },
  {
   "cell_type": "code",
   "execution_count": null,
   "id": "a2888218",
   "metadata": {},
   "outputs": [],
   "source": [
    "# to review a document in the establishments collection \n",
    "db.establishments.findOne() # NOTE: run in Mongo shell"
   ]
  },
  {
   "cell_type": "code",
   "execution_count": null,
   "id": "7d19773a",
   "metadata": {},
   "outputs": [],
   "source": [
    "# This is the output from running the code above in the Mongo shell to better view our data\n",
    "# NOTE: For VIEW ONLY; not intended for execution in a Jupyter notebook.\n",
    "{\n",
    "  _id: ObjectId('66aab1e15e50d2ea10945b4d'),\n",
    "  FHRSID: 429982,\n",
    "  ChangesByServerID: 0,\n",
    "  LocalAuthorityBusinessID: 'PI/000043978',\n",
    "  BusinessName: 'The Barn',\n",
    "  BusinessType: 'Restaurant/Cafe/Canteen',\n",
    "  BusinessTypeID: 1,\n",
    "  AddressLine1: 'Reach Court Farm',\n",
    "  AddressLine2: 'Reach Road',\n",
    "  AddressLine3: 'St Margarets At Cliffe',\n",
    "  AddressLine4: 'Kent',\n",
    "  PostCode: 'CT15 6AQ',\n",
    "  Phone: '',\n",
    "  RatingValue: '5',\n",
    "  RatingKey: 'fhrs_5_en-gb',\n",
    "  RatingDate: '2017-09-21T00:00:00',\n",
    "  LocalAuthorityCode: '182',\n",
    "  LocalAuthorityName: 'Dover',\n",
    "  LocalAuthorityWebSite: 'http://www.dover.gov.uk/',\n",
    "  LocalAuthorityEmailAddress: 'publicprotection@dover.gov.uk',\n",
    "  scores: { Hygiene: 5, Structural: 5, ConfidenceInManagement: 5 },\n",
    "  SchemeType: 'FHRS',\n",
    "  geocode: { longitude: '1.371115', latitude: '51.147379' },\n",
    "  RightToReply: '',\n",
    "  Distance: 4587.77622109052,\n",
    "  NewRatingPending: false,\n",
    "  meta: {\n",
    "    dataSource: null,\n",
    "    extractDate: '0001-01-01T00:00:00',\n",
    "    itemCount: 0,\n",
    "    returncode: null,\n",
    "    totalCount: 0,\n",
    "    totalPages: 0,\n",
    "    pageSize: 0,\n",
    "    pageNumber: 0\n",
    "  },\n",
    "  links: [\n",
    "    {\n",
    "      rel: 'self',\n",
    "      href: 'https://api.ratings.food.gov.uk/establishments/429982'\n",
    "    }\n",
    "  ]\n",
    "}"
   ]
  },
  {
   "cell_type": "markdown",
   "id": "d5671434",
   "metadata": {},
   "source": [
    "## Part 2: Update the Database"
   ]
  },
  {
   "cell_type": "markdown",
   "id": "314bd884",
   "metadata": {},
   "source": [
    "1. An exciting new halal restaurant just opened in Greenwich, but hasn't been rated yet. The magazine has asked you to include it in your analysis. Add the following restaurant \"Penang Flavours\" to the database."
   ]
  },
  {
   "cell_type": "code",
   "execution_count": 134,
   "id": "c2da7648",
   "metadata": {},
   "outputs": [],
   "source": [
    "# Create a dictionary for the new restaurant data\n",
    "new_restaurant = {\n",
    "    \"BusinessName\":\"Penang Flavours\",\n",
    "    \"BusinessType\":\"Restaurant/Cafe/Canteen\",\n",
    "    \"BusinessTypeID\":\"\",\n",
    "    \"AddressLine1\":\"Penang Flavours\",\n",
    "    \"AddressLine2\":\"146A Plumstead Rd\",\n",
    "    \"AddressLine3\":\"London\",\n",
    "    \"AddressLine4\":\"\",\n",
    "    \"PostCode\":\"SE18 7DY\",\n",
    "    \"Phone\":\"\",\n",
    "    \"LocalAuthorityCode\":\"511\",\n",
    "    \"LocalAuthorityName\":\"Greenwich\",\n",
    "    \"LocalAuthorityWebSite\":\"http://www.royalgreenwich.gov.uk\",\n",
    "    \"LocalAuthorityEmailAddress\":\"health@royalgreenwich.gov.uk\",\n",
    "    \"scores\":{\n",
    "        \"Hygiene\":\"\",\n",
    "        \"Structural\":\"\",\n",
    "        \"ConfidenceInManagement\":\"\"\n",
    "    },\n",
    "    \"SchemeType\":\"FHRS\",\n",
    "    \"geocode\":{\n",
    "        \"longitude\":\"0.08384000\",\n",
    "        \"latitude\":\"51.49014200\"\n",
    "    },\n",
    "    \"RightToReply\":\"\",\n",
    "    \"Distance\":4623.9723280747176,\n",
    "    \"NewRatingPending\":True\n",
    "}"
   ]
  },
  {
   "cell_type": "code",
   "execution_count": 135,
   "id": "a6e5cece",
   "metadata": {},
   "outputs": [],
   "source": [
    "# Insert the new restaurant into the collection creating a new variable\n",
    "updated_establishments = establishments.insert_one(new_restaurant)"
   ]
  },
  {
   "cell_type": "code",
   "execution_count": 136,
   "id": "63bb10f9",
   "metadata": {},
   "outputs": [
    {
     "name": "stdout",
     "output_type": "stream",
     "text": [
      "New restaurant added with _id: ObjectId (66ab20f24017c06666059bb5)\n"
     ]
    }
   ],
   "source": [
    "# Check that the new restaurant was inserted\n",
    "print(f\"New restaurant added with _id: ObjectId ({updated_establishments.inserted_id})\")"
   ]
  },
  {
   "cell_type": "code",
   "execution_count": null,
   "id": "a6435970",
   "metadata": {},
   "outputs": [],
   "source": [
    "# Another option to check if the new restaurant was added to the data would be executing this code \n",
    "db.establishments.find({\"BusinessName\": \"Penang Flavours\"}).pretty() # NOTE: in Mongo shell only (limit to 1)"
   ]
  },
  {
   "cell_type": "code",
   "execution_count": 137,
   "id": "ea990b43",
   "metadata": {},
   "outputs": [
    {
     "name": "stdout",
     "output_type": "stream",
     "text": [
      "Number of documents with BusinessName 'Penang Flavours': 1\n"
     ]
    }
   ],
   "source": [
    "# Check how many documents have the BusinessName \"Penang Flavours\" in case the document was added more than one time\n",
    "count = establishments.count_documents({\"BusinessName\": \"Penang Flavours\"})\n",
    "print(f\"Number of documents with BusinessName 'Penang Flavours': {count}\")"
   ]
  },
  {
   "cell_type": "markdown",
   "id": "0ef4395a",
   "metadata": {},
   "source": [
    "2. Find the BusinessTypeID for \"Restaurant/Cafe/Canteen\" and return only the `BusinessTypeID` and `BusinessType` fields."
   ]
  },
  {
   "cell_type": "code",
   "execution_count": 138,
   "id": "93c63829",
   "metadata": {},
   "outputs": [
    {
     "name": "stdout",
     "output_type": "stream",
     "text": [
      "{'BusinessType': 'Restaurant/Cafe/Canteen', 'BusinessTypeID': 1}\n",
      "{'BusinessType': 'Restaurant/Cafe/Canteen', 'BusinessTypeID': 1}\n",
      "{'BusinessType': 'Restaurant/Cafe/Canteen', 'BusinessTypeID': 1}\n",
      "{'BusinessType': 'Restaurant/Cafe/Canteen', 'BusinessTypeID': 1}\n",
      "{'BusinessType': 'Restaurant/Cafe/Canteen', 'BusinessTypeID': 1}\n",
      "{'BusinessType': 'Restaurant/Cafe/Canteen', 'BusinessTypeID': 1}\n",
      "{'BusinessType': 'Restaurant/Cafe/Canteen', 'BusinessTypeID': 1}\n",
      "{'BusinessType': 'Restaurant/Cafe/Canteen', 'BusinessTypeID': 1}\n",
      "{'BusinessType': 'Restaurant/Cafe/Canteen', 'BusinessTypeID': 1}\n",
      "{'BusinessType': 'Restaurant/Cafe/Canteen', 'BusinessTypeID': 1}\n"
     ]
    }
   ],
   "source": [
    "# Find the BusinessTypeID for \"Restaurant/Cafe/Canteen\" and return only the BusinessTypeID and BusinessType fields\n",
    "\n",
    "# Define the query and the fields we want to return\n",
    "query = {\"BusinessType\": \"Restaurant/Cafe/Canteen\"}\n",
    "requested_values = {\"BusinessTypeID\": 1, \"BusinessType\": 1, \"_id\": 0}\n",
    "\n",
    "# Capture the results to a variable, limiting to 3 documents\n",
    "returned_results = db.establishments.find(query, requested_values).limit(10)\n",
    "\n",
    "# Pretty print the results\n",
    "for result in returned_results:\n",
    "    pprint(result)"
   ]
  },
  {
   "cell_type": "markdown",
   "id": "4e570caf",
   "metadata": {},
   "source": [
    "3. Update the new restaurant with the `BusinessTypeID` you found."
   ]
  },
  {
   "cell_type": "code",
   "execution_count": 139,
   "id": "7f599f3d",
   "metadata": {},
   "outputs": [
    {
     "data": {
      "text/plain": [
       "UpdateResult({'n': 1, 'nModified': 1, 'ok': 1.0, 'updatedExisting': True}, acknowledged=True)"
      ]
     },
     "execution_count": 139,
     "metadata": {},
     "output_type": "execute_result"
    }
   ],
   "source": [
    "# Update the new restaurant with the correct BusinessTypeID\n",
    "# Note: updateOne is not valid in Python. The correct method name in PyMongo is update_one\n",
    "db.establishments.update_one(\n",
    "    {\"BusinessName\": \"Penang Flavours\"},\n",
    "    {\"$set\": {'BusinessTypeID': 1}}\n",
    ")"
   ]
  },
  {
   "cell_type": "code",
   "execution_count": 140,
   "id": "a6ad16f7",
   "metadata": {},
   "outputs": [
    {
     "name": "stdout",
     "output_type": "stream",
     "text": [
      "{'BusinessName': 'Penang Flavours', 'BusinessType': 'Restaurant/Cafe/Canteen', 'BusinessTypeID': 1}\n"
     ]
    }
   ],
   "source": [
    "# Confirm that the new restaurant was updated by querying with the business name and specifying the fields to be displayed\n",
    "updated_document = db.establishments.find_one(\n",
    "    {\"BusinessName\": \"Penang Flavours\"},\n",
    "    {\"BusinessName\": 1, \"BusinessTypeID\": 1, \"BusinessType\": 1, \"_id\": 0}\n",
    ")\n",
    "print(updated_document)\n"
   ]
  },
  {
   "cell_type": "markdown",
   "id": "67281254",
   "metadata": {},
   "source": [
    "4. The magazine is not interested in any establishments in Dover, so check how many documents contain the Dover Local Authority. Then, remove any establishments within the Dover Local Authority from the database, and check the number of documents to ensure they were deleted."
   ]
  },
  {
   "cell_type": "code",
   "execution_count": 141,
   "id": "768474a6",
   "metadata": {},
   "outputs": [
    {
     "name": "stdout",
     "output_type": "stream",
     "text": [
      "There are 10096 documents that have 'Dover'LocalAuthorityName.\n"
     ]
    }
   ],
   "source": [
    "# Find how many documents have LocalAuthorityName as \"Dover\"\n",
    "guery = {\"LocalAuthorityName\": \"Dover\"} #create a query setting parameters/conditiions\n",
    "# Print the number of results that match the set conditional parameters\n",
    "print(f\"There are {establishments.count_documents(query)} documents that have 'Dover'LocalAuthorityName.\")"
   ]
  },
  {
   "cell_type": "code",
   "execution_count": 142,
   "id": "a11d5f1b",
   "metadata": {},
   "outputs": [],
   "source": [
    "# Delete all documents where LocalAuthorityName is \"Dover\"\n",
    "result = establishments.delete_many(query)"
   ]
  },
  {
   "cell_type": "code",
   "execution_count": 143,
   "id": "2a51aba0",
   "metadata": {},
   "outputs": [
    {
     "name": "stdout",
     "output_type": "stream",
     "text": [
      "There are 0 documents left in the collection that have LocalAuthorityName as 'Dover'.\n"
     ]
    }
   ],
   "source": [
    "# Check if any remaining documents include Dover\n",
    "# Count the number of remaining documents\n",
    "remaining_count = establishments.count_documents(query)\n",
    "print(f\"There are {remaining_count} documents left in the collection that have LocalAuthorityName as 'Dover'.\")"
   ]
  },
  {
   "cell_type": "code",
   "execution_count": 144,
   "id": "8c356f7b",
   "metadata": {},
   "outputs": [
    {
     "name": "stdout",
     "output_type": "stream",
     "text": [
      "This is the first document in the collection: {'_id': ObjectId('66ab1fce3aed7deb0c98baec'), 'FHRSID': 254410, 'ChangesByServerID': 0, 'LocalAuthorityBusinessID': 'PI/000053944', 'BusinessName': 'St Margarets At Cliffe C P School', 'BusinessType': 'School/college/university', 'BusinessTypeID': 7845, 'AddressLine1': 'Sea Street', 'AddressLine2': 'St Margarets At Cliffe', 'AddressLine3': 'Kent', 'AddressLine4': '', 'PostCode': 'CT15 6SS', 'Phone': '', 'RatingValue': '5', 'RatingKey': 'fhrs_5_en-gb', 'RatingDate': '2019-01-16T00:00:00', 'LocalAuthorityCode': '182', 'LocalAuthorityName': 'Dover', 'LocalAuthorityWebSite': 'http://www.dover.gov.uk/', 'LocalAuthorityEmailAddress': 'publicprotection@dover.gov.uk', 'scores': {'Hygiene': 0, 'Structural': 5, 'ConfidenceInManagement': 0}, 'SchemeType': 'FHRS', 'geocode': {'longitude': '1.375095', 'latitude': '51.152913'}, 'RightToReply': '', 'Distance': 4587.840617011452, 'NewRatingPending': False, 'meta': {'dataSource': None, 'extractDate': '0001-01-01T00:00:00', 'itemCount': 0, 'returncode': None, 'totalCount': 0, 'totalPages': 0, 'pageSize': 0, 'pageNumber': 0}, 'links': [{'rel': 'self', 'href': 'https://api.ratings.food.gov.uk/establishments/254410'}]}\n"
     ]
    }
   ],
   "source": [
    "# Check that other documents remain with 'find_one'\n",
    "print(\"This is the first document in the collection:\", db.establishments.find_one())"
   ]
  },
  {
   "attachments": {},
   "cell_type": "markdown",
   "id": "e9f1662d",
   "metadata": {},
   "source": [
    "5. Some of the number values are stored as strings, when they should be stored as numbers."
   ]
  },
  {
   "attachments": {},
   "cell_type": "markdown",
   "id": "c46df2df",
   "metadata": {},
   "source": [
    "Use `update_many` to convert `latitude` and `longitude` to decimal numbers."
   ]
  },
  {
   "cell_type": "code",
   "execution_count": 145,
   "id": "fd4112ce",
   "metadata": {},
   "outputs": [
    {
     "data": {
      "text/plain": [
       "UpdateResult({'n': 29684, 'nModified': 29684, 'ok': 1.0, 'updatedExisting': True}, acknowledged=True)"
      ]
     },
     "execution_count": 145,
     "metadata": {},
     "output_type": "execute_result"
    }
   ],
   "source": [
    "# Change the data type from String to Decimal for longitude and latitude\n",
    "establishments.update_many({}, [ {\"$set\": { \"geocode.longitude\": {\"$toDouble\": \"$geocode.longitude\"}}}])\n",
    "establishments.update_many({}, [ {\"$set\": { \"geocode.latitude\": {\"$toDouble\": \"$geocode.latitude\"}}}])"
   ]
  },
  {
   "attachments": {},
   "cell_type": "markdown",
   "id": "142e319c",
   "metadata": {},
   "source": [
    "Use `update_many` to convert `RatingValue` to integer numbers."
   ]
  },
  {
   "cell_type": "code",
   "execution_count": 146,
   "id": "04430a5b",
   "metadata": {},
   "outputs": [
    {
     "data": {
      "text/plain": [
       "UpdateResult({'n': 3381, 'nModified': 3381, 'ok': 1.0, 'updatedExisting': True}, acknowledged=True)"
      ]
     },
     "execution_count": 146,
     "metadata": {},
     "output_type": "execute_result"
    }
   ],
   "source": [
    "# Set non 1-5 Rating Values to Null\n",
    "non_ratings = [\"AwaitingInspection\", \"Awaiting Inspection\", \"AwaitingPublication\", \"Pass\", \"Exempt\"]\n",
    "establishments.update_many({\"RatingValue\": {\"$in\": non_ratings}}, [ {'$set':{ \"RatingValue\" : None}} ])"
   ]
  },
  {
   "cell_type": "code",
   "execution_count": 155,
   "id": "04b8c4d2",
   "metadata": {},
   "outputs": [
    {
     "data": {
      "text/plain": [
       "UpdateResult({'n': 29684, 'nModified': 0, 'ok': 1.0, 'updatedExisting': True}, acknowledged=True)"
      ]
     },
     "execution_count": 155,
     "metadata": {},
     "output_type": "execute_result"
    }
   ],
   "source": [
    "# Change the data type from String to Integer for RatingValue\n",
    "establishments.update_many({}, [ {'$set': {\"RatingValue\": {'$toInt': \"$RatingValue\"}}}])"
   ]
  },
  {
   "cell_type": "code",
   "execution_count": 161,
   "id": "0deacaf9",
   "metadata": {},
   "outputs": [
    {
     "name": "stdout",
     "output_type": "stream",
     "text": [
      "0 documents remain with non-decimal values for 'longitude'.\n",
      "0 documents remain with non-decimal values for 'latitude'.\n",
      "The number of documents eligible for conversion to an integer rating value is equal to 0.\n",
      "\n",
      "\n",
      "The output above shows that all documents were converted successfully.\n"
     ]
    }
   ],
   "source": [
    "# Check that the coordinates and rating value are now numbers (decimals and intergers)\n",
    "# An absence of non-Double or non-Integer data types in the required fields guarantees the conversion was executed successfully.\n",
    "\n",
    "# Query to find documents where longitude is not of type Double to verify if anything still needs correction\n",
    "non_double_longitude_count = establishments.count_documents({\"geocode.longitude\": {\"$not\": {\"$type\": \"double\"}}})\n",
    "\n",
    "# Query to find documents where latitude is not of type Double\n",
    "non_double_latitude_count = establishments.count_documents({\"geocode.latitude\": {\"$not\": {\"$type\": \"double\"}}})\n",
    "\n",
    "# Query to find documents where RatingValue is not of type Integer, excluding non_ratings\n",
    "non_integer_rating_count = establishments.count_documents({\n",
    "    \"RatingValue\": {\n",
    "        \"$not\": {\"$type\": \"int\"},\n",
    "        \"$exists\": True,  # Ensure the field exists\n",
    "        \"$ne\": None       # Exclude documents where RatingValue is null\n",
    "    }\n",
    "})\n",
    "\n",
    "# Display results\n",
    "print(f\"{non_double_longitude_count} documents remain with non-decimal values for 'longitude'.\")\n",
    "print(f\"{non_double_latitude_count} documents remain with non-decimal values for 'latitude'.\")\n",
    "print(f\"The number of documents eligible for conversion to an integer rating value is equal to {non_integer_rating_count}.\")\n",
    "print(\"\\n\\nThe output above shows that all documents were converted successfully.\")\n"
   ]
  }
 ],
 "metadata": {
  "kernelspec": {
   "display_name": "Python 3 (ipykernel)",
   "language": "python",
   "name": "python3"
  },
  "language_info": {
   "codemirror_mode": {
    "name": "ipython",
    "version": 3
   },
   "file_extension": ".py",
   "mimetype": "text/x-python",
   "name": "python",
   "nbconvert_exporter": "python",
   "pygments_lexer": "ipython3",
   "version": "3.11.5"
  }
 },
 "nbformat": 4,
 "nbformat_minor": 5
}
