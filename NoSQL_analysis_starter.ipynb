{
 "cells": [
  {
   "cell_type": "markdown",
   "id": "9a57c4c6",
   "metadata": {},
   "source": [
    "# Eat Safe, Love"
   ]
  },
  {
   "cell_type": "markdown",
   "id": "064ef857",
   "metadata": {},
   "source": [
    "## Notebook Set Up"
   ]
  },
  {
   "cell_type": "code",
   "execution_count": 1,
   "id": "3ecdd008",
   "metadata": {},
   "outputs": [],
   "source": [
    "from pymongo import MongoClient\n",
    "import pandas as pd\n",
    "from pprint import pprint"
   ]
  },
  {
   "cell_type": "code",
   "execution_count": 2,
   "id": "59390c4a",
   "metadata": {},
   "outputs": [],
   "source": [
    "# Create an instance of MongoClient\n",
    "mongo = MongoClient(port=27017)"
   ]
  },
  {
   "cell_type": "code",
   "execution_count": 3,
   "id": "71e373c1",
   "metadata": {},
   "outputs": [],
   "source": [
    "# assign the uk_food database to a variable name\n",
    "db = mongo['uk_food']"
   ]
  },
  {
   "cell_type": "code",
   "execution_count": 4,
   "id": "18ab463c",
   "metadata": {},
   "outputs": [
    {
     "name": "stdout",
     "output_type": "stream",
     "text": [
      "['establishments']\n"
     ]
    }
   ],
   "source": [
    "# review the collections in our database\n",
    "print(db.list_collection_names())"
   ]
  },
  {
   "cell_type": "code",
   "execution_count": 5,
   "id": "11c9f11b",
   "metadata": {},
   "outputs": [],
   "source": [
    "# assign the collection to a variable\n",
    "establishments = db['establishments']"
   ]
  },
  {
   "cell_type": "markdown",
   "id": "d5671434",
   "metadata": {},
   "source": [
    "## Part 3: Exploratory Analysis\n",
    "Unless otherwise stated, for each question: \n",
    "* Use `count_documents` to display the number of documents contained in the result.\n",
    "* Display the first document in the results using `pprint`.\n",
    "* Convert the result to a Pandas DataFrame, print the number of rows in the DataFrame, and display the first 10 rows."
   ]
  },
  {
   "cell_type": "markdown",
   "id": "314bd884",
   "metadata": {},
   "source": [
    "### 1. Which establishments have a hygiene score equal to 20?"
   ]
  },
  {
   "cell_type": "code",
   "execution_count": 6,
   "id": "c2da7648",
   "metadata": {},
   "outputs": [
    {
     "name": "stdout",
     "output_type": "stream",
     "text": [
      "There 27 establishments with a hygiene score of 20.\n"
     ]
    },
    {
     "data": {
      "text/plain": [
       "{'BusinessName': 'The Chase Rest Home',\n",
       " 'RatingValue': 0,\n",
       " 'scores': {'Hygiene': 20}}"
      ]
     },
     "execution_count": 6,
     "metadata": {},
     "output_type": "execute_result"
    }
   ],
   "source": [
    "# Find the establishments with a hygiene score of 20\n",
    "query = {\"scores.Hygiene\": 20}  #setting a filter\n",
    "field = {\"_id\": 0, \"BusinessName\": 1, \"RatingValue\": 1,\"scores.Hygiene\": 1}  # Limiting fields to show in the output to cleaner display\n",
    "results = establishments.find(query, field)\n",
    "\n",
    "# Use count_documents to display the number of documents in the result\n",
    "count = establishments.count_documents(query)\n",
    "print(f\"There {count} establishments with a hygiene score of 20.\")\n",
    "\n",
    "# Display the first document in the results using pprint\n",
    "first_document = establishments.find_one(query, field)\n",
    "first_document"
   ]
  },
  {
   "cell_type": "code",
   "execution_count": 7,
   "id": "a6e5cece",
   "metadata": {},
   "outputs": [
    {
     "name": "stdout",
     "output_type": "stream",
     "text": [
      "There are 27 rows in Data Frame\n",
      "                                        BusinessName  RatingValue  \\\n",
      "0                                The Chase Rest Home            0   \n",
      "1                                         Brenalwood            0   \n",
      "2                                      Melrose Hotel            0   \n",
      "3                                      Seaford Pizza            1   \n",
      "4                                   Ashby's Butchers            0   \n",
      "5                                      Golden Palace            0   \n",
      "6                                              F & S            0   \n",
      "7  Westview Playgroup Based At Downsview Comm Pri...            1   \n",
      "8                        Whatever The Weather Coffee            0   \n",
      "9                        Kings Restaurant (Oriental)            0   \n",
      "\n",
      "            scores  \n",
      "0  {'Hygiene': 20}  \n",
      "1  {'Hygiene': 20}  \n",
      "2  {'Hygiene': 20}  \n",
      "3  {'Hygiene': 20}  \n",
      "4  {'Hygiene': 20}  \n",
      "5  {'Hygiene': 20}  \n",
      "6  {'Hygiene': 20}  \n",
      "7  {'Hygiene': 20}  \n",
      "8  {'Hygiene': 20}  \n",
      "9  {'Hygiene': 20}  \n"
     ]
    }
   ],
   "source": [
    "# Convert the result to a Pandas DataFrame to convert it to a list of dictionaries that allows to save as a Pandas DataFrame\n",
    "df = pd.DataFrame(list(results))\n",
    "\n",
    "# Display the number of rows in the DataFrame\n",
    "rows_count = len(df)\n",
    "print(f\"There are {rows_count} rows in Data Frame\")\n",
    "\n",
    "# Display the first 10 rows of the DataFrame\n",
    "print(df.head(10))"
   ]
  },
  {
   "cell_type": "markdown",
   "id": "0ef4395a",
   "metadata": {},
   "source": [
    "### 2. Which establishments in London have a `RatingValue` greater than or equal to 4?"
   ]
  },
  {
   "cell_type": "code",
   "execution_count": 10,
   "id": "bd15c47c",
   "metadata": {},
   "outputs": [
    {
     "name": "stdout",
     "output_type": "stream",
     "text": [
      "There are 27 restaurants in our dataset with ratings of 4 or higher and located in London.\n",
      "\n",
      "{'BusinessName': \"Charlie's\",\n",
      " 'LocalAuthorityName': 'City of London Corporation',\n",
      " 'RatingValue': 4,\n",
      " 'geocode': {'latitude': 51.369321, 'longitude': 0.508551},\n",
      " 'scores': {'Hygiene': 5}}\n"
     ]
    }
   ],
   "source": [
    "\n",
    "# Find the establishments with London as the Local Authority and has a RatingValue greater than or equal to 4.\n",
    "query = {\n",
    "    \"RatingValue\": {\"$gte\": 4}, # set ratingValue equal or greater than 4\n",
    "    \"LocalAuthorityName\": {\"$regex\": \"London\", \"$options\": \"i\"}  # case-insensitive regex match for \"London\"\n",
    "}\n",
    "\n",
    "fields = {    # setting filters so the dispaly does not look too long, but contains imprtant fields\n",
    "    \"_id\": 0,\n",
    "    \"BusinessName\": 1,\n",
    "    \"RatingValue\": 1,\n",
    "    \"scores.Hygiene\": 1,\n",
    "    \"geocode.longitude\": 1,\n",
    "    \"geocode.latitude\": 1,\n",
    "    \"LocalAuthorityName\": 1\n",
    "}\n",
    "\n",
    "# Execute the query\n",
    "rest_data = establishments.find(query, fields)\n",
    "\n",
    "# Use count_documents to display the number of documents in the result\n",
    "rest_count = establishments.count_documents(query)\n",
    "print(f\"There are {rest_count} restaurants in our dataset with ratings of 4 or higher and located in London.\")\n",
    "print(\"\")\n",
    "\n",
    "# Display the first document in the results using pprint\n",
    "first_rest = rest_data[0]  # defining the first item (zero index) in already filtered data\n",
    "pprint(first_rest)  # displaying the first restaurant"
   ]
  },
  {
   "cell_type": "code",
   "execution_count": 11,
   "id": "07e24ccb",
   "metadata": {},
   "outputs": [
    {
     "name": "stdout",
     "output_type": "stream",
     "text": [
      "There are 27 rows in DataFrame.\n",
      "                    BusinessName  RatingValue          LocalAuthorityName  \\\n",
      "0                      Charlie's            4  City of London Corporation   \n",
      "1        Mv City Cruises Erasmus            5  City of London Corporation   \n",
      "2      Benfleet Motor Yacht Club            4  City of London Corporation   \n",
      "3                     Mv Valulla            5  City of London Corporation   \n",
      "4                  Tereza Joanne            5  City of London Corporation   \n",
      "5  The Nuance Group (UK) Limited            5  City of London Corporation   \n",
      "6                       WH Smith            5  City of London Corporation   \n",
      "7         Mv Sunborn Yacht Hotel            5  City of London Corporation   \n",
      "8              Good Hotel London            5  City of London Corporation   \n",
      "9      Wake Up Docklands Limited            5  City of London Corporation   \n",
      "\n",
      "           scores                                            geocode  \n",
      "0  {'Hygiene': 5}     {'longitude': 0.508551, 'latitude': 51.369321}  \n",
      "1  {'Hygiene': 0}  {'longitude': 0.249255999922752, 'latitude': 5...  \n",
      "2  {'Hygiene': 0}     {'longitude': 0.561954, 'latitude': 51.543831}  \n",
      "3  {'Hygiene': 0}     {'longitude': 0.287555, 'latitude': 51.504071}  \n",
      "4  {'Hygiene': 0}     {'longitude': 0.069286, 'latitude': 51.501121}  \n",
      "5  {'Hygiene': 0}     {'longitude': 0.047966, 'latitude': 51.504112}  \n",
      "6  {'Hygiene': 0}  {'longitude': 0.0479655750095844, 'latitude': ...  \n",
      "7  {'Hygiene': 5}      {'longitude': 0.027107, 'latitude': 51.50817}  \n",
      "8  {'Hygiene': 5}      {'longitude': 0.01792, 'latitude': 51.507681}  \n",
      "9  {'Hygiene': 0}     {'longitude': 0.015742, 'latitude': 51.505992}  \n"
     ]
    }
   ],
   "source": [
    "# Convert the result to a Pandas DataFrame\n",
    "rest_db = pd.DataFrame(list(rest_data))\n",
    "\n",
    "# Display the number of rows in the DataFrame\n",
    "rows_number = len(rest_db)\n",
    "print(f\"There are {rows_number} rows in DataFrame.\")\n",
    "\n",
    "# Display the first 10 rows of the DataFrame\n",
    "print(rest_db.head(10))\n"
   ]
  },
  {
   "attachments": {},
   "cell_type": "markdown",
   "id": "4e570caf",
   "metadata": {},
   "source": [
    "### 3. What are the top 5 establishments with a `RatingValue` rating value of 5, sorted by lowest hygiene score, nearest to the new restaurant added, \"Penang Flavours\"?"
   ]
  },
  {
   "cell_type": "code",
   "execution_count": 58,
   "id": "7f599f3d",
   "metadata": {},
   "outputs": [
    {
     "name": "stdout",
     "output_type": "stream",
     "text": [
      "Top 5 establishments with a RatingValue of 5, sorted by lowest hygiene score and closest proximity to 'Penang Flavours':\n",
      "\n",
      "{'BusinessName': 'Iceland',\n",
      " 'RatingValue': 5,\n",
      " 'geocode': {'latitude': 51.4871482849121, 'longitude': 0.0924199968576431},\n",
      " 'scores': {'Hygiene': 0}}\n",
      "{'BusinessName': 'Howe and Co Fish and Chips - Van 17',\n",
      " 'RatingValue': 5,\n",
      " 'geocode': {'latitude': 51.4875335693359, 'longitude': 0.0925370007753372},\n",
      " 'scores': {'Hygiene': 0}}\n",
      "{'BusinessName': 'Volunteer',\n",
      " 'RatingValue': 5,\n",
      " 'geocode': {'latitude': 51.4873437, 'longitude': 0.09208},\n",
      " 'scores': {'Hygiene': 0}}\n",
      "{'BusinessName': 'Plumstead Manor Nursery',\n",
      " 'RatingValue': 5,\n",
      " 'geocode': {'latitude': 51.481517791748, 'longitude': 0.0859939977526665},\n",
      " 'scores': {'Hygiene': 0}}\n",
      "{'BusinessName': 'Atlantic Fish Bar',\n",
      " 'RatingValue': 5,\n",
      " 'geocode': {'latitude': 51.4867296, 'longitude': 0.0912164},\n",
      " 'scores': {'Hygiene': 0}}\n"
     ]
    }
   ],
   "source": [
    "# Search within 0.01 degree on either side of the latitude and longitude.\n",
    "# Rating value must equal 5\n",
    "# Sort by hygiene score\n",
    "\n",
    "degree_search = 0.01 # setting limits of search parameters\n",
    "latitude = 51.49014200 # setting latitute of the restaurant \"Penanag Flavours\" near which we do our search\n",
    "longitude = 0.08384000 # setting longitute of the restaurant \"Penanag Flavours\" near which we do our search \n",
    "fields = {\"_id\": 0, \"BusinessName\": 1, \"RatingValue\": 1,\"scores.Hygiene\": 1, \"geocode.longitude\": 1, \"geocode.latitude\": 1, \"distance\": 1} # setting filters for fields to be displayed\n",
    "\n",
    "# Define the query based on required rating value and search (within 0.01 degree on either side of the latitude and longitude).\n",
    "query = {\n",
    "    \"RatingValue\": 5,\n",
    "    \"geocode.latitude\": {\"$gte\": latitude - degree_search, \"$lte\": latitude + degree_search},\n",
    "    \"geocode.longitude\": {\"$gte\": longitude - degree_search, \"$lte\": longitude + degree_search}\n",
    "}\n",
    "\n",
    "# Sort by hygiene score (ascending) and then by distance (geospatial)\n",
    "sort = [\n",
    "    (\"scores.Hygiene\", 1),   # Ascending order of Hygiene score (start with the lowest)\n",
    "    (\"Distance\", 1)          # Ascending order of Distance to find the closest establishments\n",
    "]\n",
    "limit = 5\n",
    "results = establishments.find(query, fields).sort(sort).limit(limit)\n",
    "\n",
    "# Print the results\n",
    "print (f\"Top 5 establishments with a RatingValue of 5, sorted by lowest hygiene score and closest proximity to 'Penang Flavours':\")\n",
    "print(\"\")\n",
    "for result in results:\n",
    "    pprint(result)\n"
   ]
  },
  {
   "cell_type": "code",
   "execution_count": 59,
   "id": "a6ad16f7",
   "metadata": {},
   "outputs": [],
   "source": [
    "# Convert result to Pandas DataFrame\n",
    "nearest_rest_db = pd.DataFrame(list(results))"
   ]
  },
  {
   "cell_type": "markdown",
   "id": "67281254",
   "metadata": {},
   "source": [
    "### 4. How many establishments in each Local Authority area have a hygiene score of 0?"
   ]
  },
  {
   "cell_type": "code",
   "execution_count": 83,
   "id": "4eeb227e",
   "metadata": {},
   "outputs": [
    {
     "name": "stdout",
     "output_type": "stream",
     "text": [
      "There are 53 Local Authorities with establishments that have a hygiene score of 0 in the area.\n",
      "\n",
      "The first 10 results, sorted by the highest count are:\n",
      "{'_id': '190', 'count': 772}\n",
      "{'_id': '511', 'count': 670}\n",
      "{'_id': '525', 'count': 566}\n",
      "{'_id': '896', 'count': 557}\n",
      "{'_id': '185', 'count': 523}\n",
      "{'_id': '503', 'count': 508}\n",
      "{'_id': '189', 'count': 502}\n",
      "{'_id': '113', 'count': 479}\n",
      "{'_id': '893', 'count': 435}\n",
      "{'_id': '120', 'count': 430}\n"
     ]
    }
   ],
   "source": [
    "# Create a pipeline that:\n",
    "# 1. Matches establishments with a hygiene score of 0\n",
    "new_query =  {'$match': {'scores.Hygiene': 0}} # removed regex as the system required it to be a string and not integer\n",
    "\n",
    "# 2. Groups the matches by Local Authority\n",
    "group_matches = {\n",
    "    '$group': {\n",
    "        '_id': '$LocalAuthorityCode',  # Group by Local Authority Code\n",
    "        'count': {'$sum': 1}  # Count the number of documents in each group\n",
    "    }\n",
    "}\n",
    "# 3. Sorts the matches from highest to lowest count\n",
    "sort_values = {'$sort': {'count': -1, }} #set descending order\n",
    "\n",
    "# Put the pipeline together\n",
    "pipeline = [new_query, group_matches, sort_values]\n",
    "# Run the pipeline through the aggregate method and then save the results to a variable\n",
    "results = list(establishments.aggregate(pipeline))\n",
    "\n",
    "# Print the number of documents in the result\n",
    "print(f\"There are {len(results)} Local Authorities with establishments that have a hygiene score of 0 in the area.\")\n",
    "print(\"\")\n",
    "# Print the first 10 results\n",
    "print(\"The first 10 results, sorted by the highest count are:\")\n",
    "for result in results[:10]:\n",
    "    pprint(result)\n"
   ]
  },
  {
   "cell_type": "code",
   "execution_count": 87,
   "id": "d8aab364",
   "metadata": {},
   "outputs": [
    {
     "name": "stdout",
     "output_type": "stream",
     "text": [
      "The Data Frame has a total of 53 rows.\n",
      "   _id  count\n",
      "0  190    772\n",
      "1  511    670\n",
      "2  525    566\n",
      "3  896    557\n",
      "4  185    523\n",
      "5  503    508\n",
      "6  189    502\n",
      "7  113    479\n",
      "8  893    435\n",
      "9  120    430\n"
     ]
    }
   ],
   "source": [
    "# Convert the result to a Pandas DataFrame\n",
    "authorities_df = pd.DataFrame(list(results))\n",
    "\n",
    "# Display the number of rows in the DataFrame\n",
    "rows_number = len(authorities_df)\n",
    "print(f\"The Data Frame has a total of {rows_number} rows.\")\n",
    "\n",
    "# Display the first 10 rows of the DataFrame\n",
    "print(authorities_df.head(10))\n"
   ]
  }
 ],
 "metadata": {
  "kernelspec": {
   "display_name": "Python 3 (ipykernel)",
   "language": "python",
   "name": "python3"
  },
  "language_info": {
   "codemirror_mode": {
    "name": "ipython",
    "version": 3
   },
   "file_extension": ".py",
   "mimetype": "text/x-python",
   "name": "python",
   "nbconvert_exporter": "python",
   "pygments_lexer": "ipython3",
   "version": "3.11.5"
  }
 },
 "nbformat": 4,
 "nbformat_minor": 5
}
